{
  "nbformat": 4,
  "nbformat_minor": 0,
  "metadata": {
    "colab": {
      "provenance": [],
      "authorship_tag": "ABX9TyPM5mrFz6pbbIh5XbPDdBLk",
      "include_colab_link": true
    },
    "kernelspec": {
      "name": "python3",
      "display_name": "Python 3"
    },
    "language_info": {
      "name": "python"
    }
  },
  "cells": [
    {
      "cell_type": "markdown",
      "metadata": {
        "id": "view-in-github",
        "colab_type": "text"
      },
      "source": [
        "<a href=\"https://colab.research.google.com/github/Alex-2911/Basketball-Projection/blob/main/_3_01122024_lightgbm.ipynb\" target=\"_parent\"><img src=\"https://colab.research.google.com/assets/colab-badge.svg\" alt=\"Open In Colab\"/></a>"
      ]
    },
    {
      "cell_type": "code",
      "execution_count": 4,
      "metadata": {
        "id": "-YbCULm3w2ot"
      },
      "outputs": [],
      "source": [
        "ROLLING_WINDOW_SIZE = 7\n",
        "current_season = 2025"
      ]
    },
    {
      "cell_type": "code",
      "source": [
        "# import os\n",
        "from google.colab import drive\n",
        "import os\n",
        "\n",
        "# Mount Google Drive\n",
        "drive.mount('/content/drive')\n",
        "\n",
        "# Define base directory in Google Drive\n",
        "#DATA_DIR = os.path.join(\"/content/drive/My Drive\", \"NBA_Script\", \"2025\", \"Gathering_Data\", \"data\")\n",
        "#SRC_DIR = os.path.join(\"/content/drive/My Drive\", \"NBA_Script\", \"2025\", \"Gathering_Data\", \"Whole_Statistic\")\n",
        "\n",
        "# Define directories\n",
        "season_dir =\"/content/drive/My Drive/NBA_Script/2025\"\n",
        "base_dir = \"/content/drive/My Drive/NBA_Script/2025/Gathering_Data\"\n",
        "STANDINGS_DIR = os.path.join(base_dir, f\"{current_season}_standings\")\n",
        "SCORES_DIR = os.path.join(base_dir, f\"{current_season}_scores\")\n",
        "SRC_DIR = os.path.join(base_dir, f\"Whole_Statistic\")"
      ],
      "metadata": {
        "colab": {
          "base_uri": "https://localhost:8080/"
        },
        "id": "gBitZsYNxOyo",
        "outputId": "a0418959-97f2-4aac-a747-f42f970fc759"
      },
      "execution_count": 34,
      "outputs": [
        {
          "output_type": "stream",
          "name": "stdout",
          "text": [
            "Drive already mounted at /content/drive; to attempt to forcibly remount, call drive.mount(\"/content/drive\", force_remount=True).\n"
          ]
        }
      ]
    },
    {
      "cell_type": "code",
      "source": [],
      "metadata": {
        "id": "caaLTV94xOw_"
      },
      "execution_count": null,
      "outputs": []
    },
    {
      "cell_type": "code",
      "source": [
        "import pandas as pd\n",
        "import datetime\n",
        "import numpy as np\n",
        "import lightgbm as lgb\n",
        "import os\n",
        "\n",
        "\n",
        "import lightgbm as lgb\n",
        "from sklearn.preprocessing import MinMaxScaler\n",
        "from sklearn.model_selection import TimeSeriesSplit\n",
        "from sklearn.feature_selection import SequentialFeatureSelector\n",
        "\n",
        "from sklearn.model_selection import train_test_split\n",
        "from sklearn.metrics import accuracy_score\n"
      ],
      "metadata": {
        "colab": {
          "base_uri": "https://localhost:8080/"
        },
        "id": "l_A3GBzVxBaO",
        "outputId": "d3c5f82c-8279-4395-96ab-fb4114274aaa"
      },
      "execution_count": 6,
      "outputs": [
        {
          "output_type": "stream",
          "name": "stderr",
          "text": [
            "/usr/local/lib/python3.10/dist-packages/dask/dataframe/__init__.py:42: FutureWarning: \n",
            "Dask dataframe query planning is disabled because dask-expr is not installed.\n",
            "\n",
            "You can install it with `pip install dask[dataframe]` or `conda install dask`.\n",
            "This will raise in a future version.\n",
            "\n",
            "  warnings.warn(msg, FutureWarning)\n"
          ]
        }
      ]
    },
    {
      "cell_type": "code",
      "source": [
        "import os\n",
        "import pandas as pd\n",
        "import glob\n",
        "import datetime\n",
        "\n",
        "# Define directory and date format\n",
        "#directory = \"D:\\\\1. Python\\\\1. NBA Script\\\\2025\\\\Gathering_Data\\\\Next_Game\\\\\"\n",
        "directory = \"/content/drive/My Drive/NBA_Script/2025/Gathering_Data/Next_Game\"\n",
        "\n",
        "today = datetime.datetime.now().strftime(\"%Y-%m-%d\")\n",
        "\n",
        "# Check if file exists\n",
        "# Added '/' between directory and filename to construct the correct path\n",
        "file_path = os.path.join(directory, f\"games_df_{today}.csv\")\n",
        "if not os.path.exists(file_path):\n",
        "    # List files and pick the latest one\n",
        "    files = sorted(glob.glob(os.path.join(directory, f\"games_df_*.csv\")))  # Updated here as well\n",
        "    if files:\n",
        "        file_path = files[-1]  # Use the latest available file\n",
        "        print(f\"Using the latest file: {file_path}\")\n",
        "    else:\n",
        "        print(\"No files found in the directory.\")\n",
        "        exit()\n",
        "\n",
        "# Proceed to read the file\n",
        "games_df = pd.read_csv(file_path, index_col=0)\n",
        "print(games_df.head(60).to_string(index=False))"
      ],
      "metadata": {
        "colab": {
          "base_uri": "https://localhost:8080/"
        },
        "id": "_du25AyLxF_d",
        "outputId": "2ded646d-6ae5-4357-8bfb-fa059fd1f2de"
      },
      "execution_count": 7,
      "outputs": [
        {
          "output_type": "stream",
          "name": "stdout",
          "text": [
            "home_team away_team  game_date\n",
            "      BRK       ORL 2024-12-01\n",
            "      MEM       IND 2024-12-01\n",
            "      CLE       BOS 2024-12-01\n",
            "      NYK       NOP 2024-12-01\n",
            "      TOR       MIA 2024-12-01\n",
            "      HOU       OKC 2024-12-01\n",
            "      UTA       LAL 2024-12-01\n",
            "      POR       DAL 2024-12-01\n",
            "      SAC       SAS 2024-12-01\n",
            "      LAC       DEN 2024-12-01\n"
          ]
        }
      ]
    },
    {
      "cell_type": "code",
      "source": [
        "import os\n",
        "import pandas as pd\n",
        "import datetime\n",
        "from sklearn.preprocessing import MinMaxScaler\n",
        "\n",
        "# Constants\n",
        "#DATA_DIRECTORY = \"D:\\\\1. Python\\\\1. NBA Script\\\\2025\\\\Gathering_Data\\\\Whole_Statistic\\\\\"\n",
        "#SRC_DIR = os.path.join(base_dir, f\"Whole_Statistic\")\n",
        "TODAY = (datetime.datetime.now() - datetime.timedelta(days=0)).strftime(\"%Y-%m-%d\")\n",
        "\n",
        "df_path = os.path.join(SRC_DIR, f\"nba_games_{TODAY}.csv\")\n",
        "\n",
        "# Function to find the most recent file in the directory if the desired one is not available\n",
        "def get_latest_available_file(data_directory, prefix=\"nba_games_\", extension=\".csv\"):\n",
        "    \"\"\"Returns the latest available CSV file matching the pattern.\"\"\"\n",
        "    available_files = [f for f in os.listdir(data_directory) if f.startswith(prefix) and f.endswith(extension)]\n",
        "    if available_files:\n",
        "        latest_file = max(available_files, key=lambda f: os.path.getctime(os.path.join(data_directory, f)))\n",
        "        return os.path.join(data_directory, latest_file)\n",
        "    return None\n",
        "\n",
        "# Check if the specific file for today exists; if not, fallback to the most recent available file\n",
        "if not os.path.exists(df_path):\n",
        "    print(f\"File for {TODAY} not found. Searching for the latest available file...\")\n",
        "    df_path = get_latest_available_file(DATA_DIRECTORY)\n",
        "    if df_path:\n",
        "        print(f\"Using the latest available file: {df_path}\")\n",
        "    else:\n",
        "        raise FileNotFoundError(f\"No suitable file found in the directory: {DATA_DIRECTORY}\")\n",
        "\n",
        "# Proceed with loading the data\n",
        "df = pd.read_csv(df_path, index_col=0)\n",
        "print(df)#.tail())  # Display a portion of the data\n",
        "\n",
        "# Function to add a target column\n",
        "def add_target(group):\n",
        "    \"\"\"Adds a target column to the DataFrame group based on the 'won' column.\"\"\"\n",
        "    group['target'] = group['won'].shift(-1)\n",
        "    return group\n",
        "\n",
        "def preprocess_nba_data():\n",
        "    # Load the data\n",
        "    df = pd.read_csv(df_path, index_col=0)\n",
        "\n",
        "    # Sort by date\n",
        "    df = df.sort_values(\"date\")\n",
        "\n",
        "    # Apply the preprocessing function to each team group\n",
        "    df = df.groupby('team').apply(add_target)\n",
        "\n",
        "    # Handle missing values\n",
        "    df['target'].fillna(2, inplace=True)\n",
        "    df['target'] = df['target'].astype(int)\n",
        "\n",
        "    # Identify and remove columns with null values\n",
        "    nulls = pd.isnull(df).sum()\n",
        "    nulls = nulls[nulls > 0]\n",
        "    valid_columns = df.columns[~df.columns.isin(nulls.index)]\n",
        "    df = df[valid_columns].copy()\n",
        "\n",
        "    return df\n",
        "\n",
        "if __name__ == \"__main__\":\n",
        "    df = preprocess_nba_data()\n",
        "\n",
        "    # Columns to be excluded from scaling\n",
        "    removed_columns = [\"season\", \"date\", \"won\", \"target\", \"team\", \"team_opp\"]\n",
        "\n",
        "    # Selecting columns that are not in the 'removed_columns' list\n",
        "    selected_columns = df.columns[~df.columns.isin(removed_columns)]\n",
        "\n",
        "    # Initialize the MinMaxScaler\n",
        "    scaler = MinMaxScaler()\n",
        "\n",
        "    # Scale the selected columns and update the DataFrame\n",
        "    df[selected_columns] = scaler.fit_transform(df[selected_columns])\n",
        "\n",
        "    #df.to_csv(\"D:\\\\1. Python\\\\1. NBA Script\\\\2025\\\\Gathering_Data\\\\Whole_Statistic\\\\df_orig.csv\", index=False)\n",
        "\n",
        "\n",
        "    # Optionally, save the scaled DataFrame\n",
        "    # output_path = os.path.join(DATA_DIRECTORY, f\"scaled_nba_games_{TODAY}.csv\")\n",
        "    # df.to_csv(output_path, index=False)\n",
        "    # print(f\"Scaled data saved to {output_path}\")\n"
      ],
      "metadata": {
        "colab": {
          "base_uri": "https://localhost:8080/"
        },
        "id": "qqkhq4iVylKz",
        "outputId": "6e98b2da-4598-4f14-e91d-ad9ef65e4a58"
      },
      "execution_count": 8,
      "outputs": [
        {
          "output_type": "stream",
          "name": "stdout",
          "text": [
            "         fg   fga      fg%    3p   3pa      3p%    ft   fta      ft%   orb  \\\n",
            "mp.1                                                                         \n",
            "240.0  37.0  96.0  385.000  12.0  29.0  414.000  20.0  26.0  769.000  23.0   \n",
            "240.0  37.0  82.0  451.000   8.0  27.0  296.000  12.0  15.0    0.800   7.0   \n",
            "240.0  38.0  94.0  404.000   9.0  29.0    0.310  10.0  17.0  588.000  11.0   \n",
            "240.0  37.0  87.0  425.000   7.0  19.0  368.000  16.0  23.0  696.000   7.0   \n",
            "240.0  35.0  83.0  422.000   6.0  18.0  333.000  19.0  27.0  704.000   8.0   \n",
            "...     ...   ...      ...   ...   ...      ...   ...   ...      ...   ...   \n",
            "NaN    44.0  86.0    0.512  16.0  35.0    0.457  20.0  25.0    0.800   7.0   \n",
            "NaN    38.0  92.0    0.413  14.0  40.0    0.350  15.0  18.0    0.833   9.0   \n",
            "NaN    38.0  79.0    0.481  18.0  35.0    0.514  19.0  22.0    0.864   6.0   \n",
            "NaN    41.0  90.0    0.456  15.0  39.0    0.385   9.0  15.0    0.600  12.0   \n",
            "NaN    34.0  95.0    0.358   9.0  39.0    0.231  17.0  21.0    0.810  19.0   \n",
            "\n",
            "       ...  usg%_max_opp  ortg_max_opp  drtg_max_opp  team_opp  total_opp  \\\n",
            "mp.1   ...                                                                  \n",
            "240.0  ...          33.8         258.0         121.0       ATL         94   \n",
            "240.0  ...          23.6         132.0         104.0       DET        106   \n",
            "240.0  ...          34.6         162.0         104.0       CHI         97   \n",
            "240.0  ...          29.0         138.0         105.0       CLE         95   \n",
            "240.0  ...          43.7         206.0         104.0       GSW        111   \n",
            "...    ...           ...           ...           ...       ...        ...   \n",
            "NaN    ...          38.4         228.0         132.0       WAS        114   \n",
            "NaN    ...          33.6         177.0         116.0       PHO        113   \n",
            "NaN    ...          34.1         215.0         126.0       GSW        105   \n",
            "NaN    ...          27.5         175.0         120.0       UTA         94   \n",
            "NaN    ...          54.9         200.0         113.0       DAL        106   \n",
            "\n",
            "       home_opp  season                 date    won  Unnamed: 0  \n",
            "mp.1                                                             \n",
            "240.0         1    2016           2015-10-27   True         NaN  \n",
            "240.0         0    2016           2015-10-27  False         NaN  \n",
            "240.0         1    2016           2015-10-27  False         NaN  \n",
            "240.0         0    2016           2015-10-27   True         NaN  \n",
            "240.0         1    2016           2015-10-27  False         NaN  \n",
            "...         ...     ...                  ...    ...         ...  \n",
            "NaN           0    2025  2024-11-30 00:00:00   True         NaN  \n",
            "NaN           1    2025  2024-11-30 00:00:00  False         NaN  \n",
            "NaN           0    2025  2024-11-30 00:00:00   True         NaN  \n",
            "NaN           1    2025  2024-11-30 00:00:00   True         NaN  \n",
            "NaN           0    2025  2024-11-30 00:00:00  False         NaN  \n",
            "\n",
            "[22714 rows x 149 columns]\n"
          ]
        },
        {
          "output_type": "stream",
          "name": "stderr",
          "text": [
            "<ipython-input-8-f72e0f37175e>:49: DeprecationWarning: DataFrameGroupBy.apply operated on the grouping columns. This behavior is deprecated, and in a future version of pandas the grouping columns will be excluded from the operation. Either pass `include_groups=False` to exclude the groupings or explicitly select the grouping columns after groupby to silence this warning.\n",
            "  df = df.groupby('team').apply(add_target)\n",
            "<ipython-input-8-f72e0f37175e>:52: FutureWarning: A value is trying to be set on a copy of a DataFrame or Series through chained assignment using an inplace method.\n",
            "The behavior will change in pandas 3.0. This inplace method will never work because the intermediate object on which we are setting values always behaves as a copy.\n",
            "\n",
            "For example, when doing 'df[col].method(value, inplace=True)', try using 'df.method({col: value}, inplace=True)' or df[col] = df[col].method(value) instead, to perform the operation inplace on the original object.\n",
            "\n",
            "\n",
            "  df['target'].fillna(2, inplace=True)\n"
          ]
        }
      ]
    },
    {
      "cell_type": "code",
      "source": [
        "df.groupby([\"home\"]).apply(lambda x: x[x[\"won\"] == 1].shape[0] / x.shape[0])\n",
        "\n",
        "#print(df_rolling.head(60).to_string(index=False))"
      ],
      "metadata": {
        "colab": {
          "base_uri": "https://localhost:8080/",
          "height": 233
        },
        "id": "iieHz-ELzFkL",
        "outputId": "fd2ad81b-4549-460d-970b-ef252af687d0"
      },
      "execution_count": 9,
      "outputs": [
        {
          "output_type": "stream",
          "name": "stderr",
          "text": [
            "<ipython-input-9-23ecb1782d91>:1: DeprecationWarning: DataFrameGroupBy.apply operated on the grouping columns. This behavior is deprecated, and in a future version of pandas the grouping columns will be excluded from the operation. Either pass `include_groups=False` to exclude the groupings or explicitly select the grouping columns after groupby to silence this warning.\n",
            "  df.groupby([\"home\"]).apply(lambda x: x[x[\"won\"] == 1].shape[0] / x.shape[0])\n"
          ]
        },
        {
          "output_type": "execute_result",
          "data": {
            "text/plain": [
              "home\n",
              "0.0    0.429779\n",
              "1.0    0.570221\n",
              "dtype: float64"
            ],
            "text/html": [
              "<div>\n",
              "<style scoped>\n",
              "    .dataframe tbody tr th:only-of-type {\n",
              "        vertical-align: middle;\n",
              "    }\n",
              "\n",
              "    .dataframe tbody tr th {\n",
              "        vertical-align: top;\n",
              "    }\n",
              "\n",
              "    .dataframe thead th {\n",
              "        text-align: right;\n",
              "    }\n",
              "</style>\n",
              "<table border=\"1\" class=\"dataframe\">\n",
              "  <thead>\n",
              "    <tr style=\"text-align: right;\">\n",
              "      <th></th>\n",
              "      <th>0</th>\n",
              "    </tr>\n",
              "    <tr>\n",
              "      <th>home</th>\n",
              "      <th></th>\n",
              "    </tr>\n",
              "  </thead>\n",
              "  <tbody>\n",
              "    <tr>\n",
              "      <th>0.0</th>\n",
              "      <td>0.429779</td>\n",
              "    </tr>\n",
              "    <tr>\n",
              "      <th>1.0</th>\n",
              "      <td>0.570221</td>\n",
              "    </tr>\n",
              "  </tbody>\n",
              "</table>\n",
              "</div><br><label><b>dtype:</b> float64</label>"
            ]
          },
          "metadata": {},
          "execution_count": 9
        }
      ]
    },
    {
      "cell_type": "code",
      "source": [
        "####################################################################################################\n",
        "# CALCULATE THE AVERAGE FOR THE PREVIOUS SEASONS WITH THE ROLLING WINDOW OF 7 FOR LEARNING THE MODEL #\n",
        "####################################################################################################\n",
        "\n",
        "import pandas as pd\n",
        "import numpy as np\n",
        "\n",
        "# Define the current season\n",
        "current_season = 2025\n",
        "\n",
        "# Filter out the games from the current season\n",
        "df_rolling = df[list(selected_columns) + [\"won\", \"team\", \"season\"]]\n",
        "\n",
        "#print(df_rolling.columns)\n",
        "\n",
        "def find_team_averages(team):\n",
        "    numeric_columns = team.select_dtypes(include=[np.number])  # Select only numeric columns\n",
        "    rolling = numeric_columns.rolling(ROLLING_WINDOW_SIZE, min_periods=1).mean()  # Calculate rolling mean\n",
        "    #rolling[['team', 'season']] = team[['team', 'season']]  # Retain 'team' and 'season' columns in the result\n",
        "    return rolling\n",
        "\n",
        "\n",
        "# Apply rolling average\n",
        "#df_rolling = df.copy()\n",
        "df_rolling.reset_index(drop=True, inplace=True)\n",
        "df_rolling = df_rolling.groupby([\"team\", \"season\"], group_keys=False).apply(find_team_averages)\n",
        "\n",
        "# Renaming columns with _7 suffix for numeric columns only\n",
        "rolling_cols = {col: f\"{col}_7\" for col in df_rolling.columns if col not in ['team', 'season']} #, 'season','season_rolling','season_original','target']}\n",
        "\n",
        "\n",
        "# Rename the columns\n",
        "df_rolling.rename(columns=rolling_cols, inplace=True)\n",
        "# Display the renamed columns\n",
        "#print(df_rolling)\n",
        "#df_rolling.to_csv(\"D:\\\\1. Python\\\\1. NBA Script\\\\2025\\\\Gathering_Data\\\\Whole_Statistic\\\\df_rolling.csv\", index=False)\n",
        "\n",
        "\n"
      ],
      "metadata": {
        "colab": {
          "base_uri": "https://localhost:8080/"
        },
        "id": "oX2bIn9hzXQr",
        "outputId": "d330efd7-3972-4d8f-db4e-9fefdda86be9"
      },
      "execution_count": 10,
      "outputs": [
        {
          "output_type": "stream",
          "name": "stderr",
          "text": [
            "<ipython-input-10-0e5c0f5d32b5>:26: DeprecationWarning: DataFrameGroupBy.apply operated on the grouping columns. This behavior is deprecated, and in a future version of pandas the grouping columns will be excluded from the operation. Either pass `include_groups=False` to exclude the groupings or explicitly select the grouping columns after groupby to silence this warning.\n",
            "  df_rolling = df_rolling.groupby([\"team\", \"season\"], group_keys=False).apply(find_team_averages)\n"
          ]
        }
      ]
    },
    {
      "cell_type": "code",
      "source": [
        "df = df.reset_index(drop=True)\n",
        "df_rolling = df_rolling.reset_index(drop=True)\n",
        "\n",
        "df = pd.concat([df, df_rolling], axis=1)\n",
        "\n",
        "#df.to_csv(\"D:\\\\1. Python\\\\1. NBA Script\\\\2025\\\\Gathering_Data\\\\Whole_Statistic\\\\df_pd.concat.csv\", index=False)\n",
        "\n",
        "\n",
        "df = df.dropna()\n",
        "\n",
        "print(df)\n",
        "\n",
        "target_2_rows = df[df['target'] == 2]['target']\n",
        "print(target_2_rows)"
      ],
      "metadata": {
        "colab": {
          "base_uri": "https://localhost:8080/"
        },
        "id": "ST5YbuzT0E3T",
        "outputId": "c2ab9abb-5d89-4a17-9c55-569285627d1e"
      },
      "execution_count": 11,
      "outputs": [
        {
          "output_type": "stream",
          "name": "stdout",
          "text": [
            "             fg       fga       fg%        3p       3pa       3p%        ft  \\\n",
            "0      0.391304  0.323529  0.656339  0.275862  0.348485  0.351544  0.272727   \n",
            "1      0.500000  0.338235  0.736429  0.344828  0.303030  0.495249  0.409091   \n",
            "2      0.369565  0.338235  0.631584  0.275862  0.287879  0.413302  0.386364   \n",
            "3      0.391304  0.411765  0.000208  0.241379  0.378788  0.286223  0.295455   \n",
            "4      0.391304  0.441176  0.598091  0.241379  0.257576  0.395487  0.386364   \n",
            "...         ...       ...       ...       ...       ...       ...       ...   \n",
            "22709  0.434783  0.441176  0.000227  0.241379  0.363636  0.000297  0.250000   \n",
            "22710  0.369565  0.279412  0.000261  0.379310  0.469697  0.000373  0.454545   \n",
            "22711  0.434783  0.455882  0.000221  0.344828  0.500000  0.000321  0.454545   \n",
            "22712  0.347826  0.367647  0.000197  0.275862  0.439394  0.000287  0.409091   \n",
            "22713  0.478261  0.397059  0.000283  0.310345  0.424242  0.000334  0.522727   \n",
            "\n",
            "            fta       orb       drb  ...  ast%_max_opp_7  stl%_max_opp_7  \\\n",
            "0      0.234375  0.241379  0.386364  ...        0.261468        0.032000   \n",
            "1      0.406250  0.241379  0.363636  ...        0.250573        0.043500   \n",
            "2      0.343750  0.275862  0.477273  ...        0.280963        0.047333   \n",
            "3      0.218750  0.310345  0.522727  ...        0.293578        0.043750   \n",
            "4      0.343750  0.551724  0.431818  ...        0.256422        0.044600   \n",
            "...         ...       ...       ...  ...             ...             ...   \n",
            "22709  0.250000  0.344828  0.500000  ...        0.307176        0.067429   \n",
            "22710  0.390625  0.275862  0.386364  ...        0.293742        0.063000   \n",
            "22711  0.484375  0.172414  0.500000  ...        0.345511        0.057429   \n",
            "22712  0.343750  0.379310  0.295455  ...        0.352720        0.068571   \n",
            "22713  0.375000  0.275862  0.386364  ...        0.389581        0.063429   \n",
            "\n",
            "       blk%_max_opp_7  tov%_max_opp_7  usg%_max_opp_7  ortg_max_opp_7  \\\n",
            "0            0.047000        0.300839        0.020513        0.203791   \n",
            "1            0.042500        0.325996        0.105769        0.329384   \n",
            "2            0.064667        0.341370        0.089316        0.262243   \n",
            "3            0.070750        0.300314        0.085897        0.446682   \n",
            "4            0.074600        0.338574        0.100769        0.408531   \n",
            "...               ...             ...             ...             ...   \n",
            "22709        0.120000        0.314316        0.153114        0.486798   \n",
            "22710        0.096000        0.316412        0.159890        0.403521   \n",
            "22711        0.087000        0.366277        0.187729        0.426540   \n",
            "22712        0.091000        0.391734        0.180952        0.446852   \n",
            "22713        0.089286        0.401767        0.200183        0.477996   \n",
            "\n",
            "       drtg_max_opp_7  total_opp_7  home_opp_7  season  \n",
            "0            0.306818     0.375000    0.000000  2016.0  \n",
            "1            0.375000     0.352679    0.500000  2016.0  \n",
            "2            0.348485     0.324405    0.333333  2016.0  \n",
            "3            0.363636     0.305804    0.500000  2016.0  \n",
            "4            0.370455     0.294643    0.600000  2016.0  \n",
            "...               ...          ...         ...     ...  \n",
            "22709        0.405844     0.528061    0.714286  2025.0  \n",
            "22710        0.413961     0.520408    0.714286  2025.0  \n",
            "22711        0.417208     0.545918    0.571429  2025.0  \n",
            "22712        0.381494     0.522959    0.428571  2025.0  \n",
            "22713        0.396104     0.516582    0.428571  2025.0  \n",
            "\n",
            "[22714 rows x 267 columns]\n",
            "752      2\n",
            "1598     2\n",
            "2332     2\n",
            "3051     2\n",
            "3757     2\n",
            "4537     2\n",
            "5305     2\n",
            "6092     2\n",
            "6803     2\n",
            "7624     2\n",
            "8390     2\n",
            "9144     2\n",
            "9917     2\n",
            "10668    2\n",
            "11414    2\n",
            "12211    2\n",
            "13002    2\n",
            "13739    2\n",
            "14468    2\n",
            "15196    2\n",
            "15957    2\n",
            "16681    2\n",
            "17454    2\n",
            "18212    2\n",
            "18968    2\n",
            "19684    2\n",
            "20431    2\n",
            "21221    2\n",
            "21979    2\n",
            "22713    2\n",
            "Name: target, dtype: int64\n"
          ]
        }
      ]
    },
    {
      "cell_type": "code",
      "source": [
        "def shift_col(team, col_name):\n",
        "    next_col = team[col_name].shift(-1)\n",
        "    return next_col\n",
        "\n",
        "def add_col(df, col_name):\n",
        "    # Ensure the 'team' column is not part of the index and is correctly formatted\n",
        "    if 'team' in df.columns:\n",
        "        return df.groupby(\"team\", group_keys=False).apply(lambda x: shift_col(x, col_name))\n",
        "    else:\n",
        "        raise KeyError(\"The 'team' column is missing or not properly formatted in the DataFrame.\")\n",
        "\n",
        "# Ensure the 'team' column exists and is not part of the index\n",
        "if 'team' not in df.columns:\n",
        "    print(\"The 'team' column is missing. Ensure the column is present in your DataFrame.\")\n",
        "\n",
        "# Reset the index to avoid potential issues with multi-indexing\n",
        "df = df.reset_index(drop=True)\n",
        "\n",
        "# Add shifted columns for \"home\", \"team_opp\", and \"date\"\n",
        "df[\"home_next\"] = add_col(df, \"home\")\n",
        "df[\"team_opp_next\"] = add_col(df, \"team_opp\")\n",
        "df[\"date_next\"] = add_col(df, \"date\")\n",
        "\n",
        "# Drop rows where any of the next columns contain NaN values (optional)\n",
        "#df = df.dropna(subset=[\"home_next\", \"team_opp_next\", \"date_next\"])\n",
        "\n",
        "# Optionally, save the DataFrame to a CSV file\n",
        "#df.to_csv(\"D:\\\\1. Python\\\\1. NBA Script\\\\2025\\\\Gathering_Data\\\\Whole_Statistic\\\\df_dropna_target_2.csv\", index=False)\n",
        "#df.to_csv(\"D:\\\\1. Python\\\\1. NBA Script\\\\2025\\\\Gathering_Data\\\\Whole_Statistic\\\\df.csv\", index=False)\n",
        "\n",
        "\n",
        "# Display the first few rows to check the output\n",
        "#print(df.head())\n",
        "\n",
        "target_2_rows = df[df['target'] == 2]['target']\n",
        "print(target_2_rows)\n"
      ],
      "metadata": {
        "colab": {
          "base_uri": "https://localhost:8080/"
        },
        "id": "UXYCwMPu0Ikv",
        "outputId": "d959ffb8-a533-46a3-91fc-6e4764d4eb0a"
      },
      "execution_count": 12,
      "outputs": [
        {
          "output_type": "stream",
          "name": "stdout",
          "text": [
            "752      2\n",
            "1598     2\n",
            "2332     2\n",
            "3051     2\n",
            "3757     2\n",
            "4537     2\n",
            "5305     2\n",
            "6092     2\n",
            "6803     2\n",
            "7624     2\n",
            "8390     2\n",
            "9144     2\n",
            "9917     2\n",
            "10668    2\n",
            "11414    2\n",
            "12211    2\n",
            "13002    2\n",
            "13739    2\n",
            "14468    2\n",
            "15196    2\n",
            "15957    2\n",
            "16681    2\n",
            "17454    2\n",
            "18212    2\n",
            "18968    2\n",
            "19684    2\n",
            "20431    2\n",
            "21221    2\n",
            "21979    2\n",
            "22713    2\n",
            "Name: target, dtype: int64\n"
          ]
        },
        {
          "output_type": "stream",
          "name": "stderr",
          "text": [
            "<ipython-input-12-1e3731c6949c>:8: DeprecationWarning: DataFrameGroupBy.apply operated on the grouping columns. This behavior is deprecated, and in a future version of pandas the grouping columns will be excluded from the operation. Either pass `include_groups=False` to exclude the groupings or explicitly select the grouping columns after groupby to silence this warning.\n",
            "  return df.groupby(\"team\", group_keys=False).apply(lambda x: shift_col(x, col_name))\n",
            "<ipython-input-12-1e3731c6949c>:8: DeprecationWarning: DataFrameGroupBy.apply operated on the grouping columns. This behavior is deprecated, and in a future version of pandas the grouping columns will be excluded from the operation. Either pass `include_groups=False` to exclude the groupings or explicitly select the grouping columns after groupby to silence this warning.\n",
            "  return df.groupby(\"team\", group_keys=False).apply(lambda x: shift_col(x, col_name))\n",
            "<ipython-input-12-1e3731c6949c>:8: DeprecationWarning: DataFrameGroupBy.apply operated on the grouping columns. This behavior is deprecated, and in a future version of pandas the grouping columns will be excluded from the operation. Either pass `include_groups=False` to exclude the groupings or explicitly select the grouping columns after groupby to silence this warning.\n",
            "  return df.groupby(\"team\", group_keys=False).apply(lambda x: shift_col(x, col_name))\n"
          ]
        }
      ]
    },
    {
      "cell_type": "code",
      "source": [
        "for _, game in games_df.iterrows():\n",
        "    home_team = game['home_team']\n",
        "    away_team = game['away_team']\n",
        "    game_day = game['game_date']\n",
        "\n",
        "    print(home_team)\n",
        "    print(away_team)\n",
        "    print(game_day)\n",
        "\n",
        "\n",
        "    last_home_team_index = df.loc[df['team'] == home_team].iloc[::-1].index[0]\n",
        "\n",
        "    df.loc[last_home_team_index, 'team_opp_next'] = away_team\n",
        "    df.loc[last_home_team_index, 'home_next'] = 1\n",
        "    df.loc[last_home_team_index, 'date_next'] = game_day\n",
        "\n",
        "\n",
        "    last_away_team_index = df.loc[df['team'] == away_team].iloc[::-1].index[0]\n",
        "\n",
        "    df.loc[last_away_team_index, 'team_opp_next'] = home_team\n",
        "    df.loc[last_away_team_index, 'home_next'] = 0\n",
        "    df.loc[last_away_team_index, 'date_next'] = game_day\n"
      ],
      "metadata": {
        "colab": {
          "base_uri": "https://localhost:8080/"
        },
        "id": "01T26HN30UkL",
        "outputId": "06c17ee1-0c14-41e8-c622-650eaec84aae"
      },
      "execution_count": 13,
      "outputs": [
        {
          "output_type": "stream",
          "name": "stdout",
          "text": [
            "BRK\n",
            "ORL\n",
            "2024-12-01\n",
            "MEM\n",
            "IND\n",
            "2024-12-01\n",
            "CLE\n",
            "BOS\n",
            "2024-12-01\n",
            "NYK\n",
            "NOP\n",
            "2024-12-01\n",
            "TOR\n",
            "MIA\n",
            "2024-12-01\n",
            "HOU\n",
            "OKC\n",
            "2024-12-01\n",
            "UTA\n",
            "LAL\n",
            "2024-12-01\n",
            "POR\n",
            "DAL\n",
            "2024-12-01\n",
            "SAC\n",
            "SAS\n",
            "2024-12-01\n",
            "LAC\n",
            "DEN\n",
            "2024-12-01\n"
          ]
        }
      ]
    },
    {
      "cell_type": "code",
      "source": [
        "# Merging DataFrames\n",
        "# Convert rolling_cols dictionary keys to a list and add other columns\n",
        "full = df.merge(df[list(rolling_cols.keys()) + [\"team_opp_next\", \"date_next\", \"team\"]],\n",
        "                left_on=[\"team\", \"date_next\"],\n",
        "                right_on=[\"team_opp_next\", \"date_next\"])\n",
        "\n",
        "\n",
        "# Save the merged DataFrame\n",
        "#output_path = \"D:\\\\1. Python\\\\1. NBA Script\\\\2025\\\\Gathering_Data\\\\Whole_Statistic\\\\full_new.csv\"\n",
        "#full.to_csv(output_path, index=False)\n",
        "#print(f\"Merged data saved to: {output_path}\")\n",
        "\n",
        "# Display basic info and first few rows of the merged DataFrame\n",
        "print(\"Full DataFrame Info:\")\n",
        "print(full.info())\n",
        "print(\"\\nFirst few rows of the merged DataFrame:\")\n",
        "print(full.head())\n",
        "\n",
        "# Print number of rows in the merged DataFrame\n",
        "num_rows = full.shape[0]\n",
        "print(f\"Number of rows in 'full' DataFrame: {num_rows}\")\n",
        "\n",
        "# Extract and print rows with target == 2\n",
        "target_2_rows = full[full['target'] == 2]['target']\n",
        "print(\"\\nRows where 'target' == 2:\")\n",
        "print(target_2_rows)\n"
      ],
      "metadata": {
        "colab": {
          "base_uri": "https://localhost:8080/"
        },
        "id": "VfPCl-8j0f68",
        "outputId": "693c6a08-874f-4d8b-e128-33bc1ddfcd07"
      },
      "execution_count": 14,
      "outputs": [
        {
          "output_type": "stream",
          "name": "stdout",
          "text": [
            "Full DataFrame Info:\n",
            "<class 'pandas.core.frame.DataFrame'>\n",
            "RangeIndex: 22876 entries, 0 to 22875\n",
            "Columns: 402 entries, fg_x to team_y\n",
            "dtypes: bool(1), float64(392), int64(2), object(7)\n",
            "memory usage: 70.0+ MB\n",
            "None\n",
            "\n",
            "First few rows of the merged DataFrame:\n",
            "       fg_x     fga_x     fg%_x      3p_x     3pa_x     3p%_x      ft_x  \\\n",
            "0  0.391304  0.323529  0.656339  0.275862  0.348485  0.351544  0.272727   \n",
            "1  0.500000  0.338235  0.736429  0.344828  0.303030  0.495249  0.409091   \n",
            "2  0.369565  0.338235  0.631584  0.275862  0.287879  0.413302  0.386364   \n",
            "3  0.391304  0.411765  0.000208  0.241379  0.378788  0.286223  0.295455   \n",
            "4  0.391304  0.441176  0.598091  0.241379  0.257576  0.395487  0.386364   \n",
            "\n",
            "      fta_x     orb_x     drb_x  ...  stl%_max_opp_y  blk%_max_opp_y  \\\n",
            "0  0.234375  0.241379  0.386364  ...           0.034           0.068   \n",
            "1  0.406250  0.241379  0.363636  ...           0.061           0.079   \n",
            "2  0.343750  0.275862  0.477273  ...           0.047           0.045   \n",
            "3  0.218750  0.310345  0.522727  ...           0.047           0.053   \n",
            "4  0.343750  0.551724  0.431818  ...           0.070           0.071   \n",
            "\n",
            "   tov%_max_opp_y  usg%_max_opp_y  ortg_max_opp_y  drtg_max_opp_y  \\\n",
            "0        0.475891        0.134615        0.241706        0.681818   \n",
            "1        0.475891        0.155128        0.682464        0.386364   \n",
            "2        0.197065        0.055128        0.161137        0.318182   \n",
            "3        0.408805        0.114103        0.298578        0.511364   \n",
            "4        0.737945        0.114103        0.417062        0.420455   \n",
            "\n",
            "   total_opp_y  home_opp_y  team_opp_next_y  team_y  \n",
            "0     0.294643         1.0              ATL     NYK  \n",
            "1     0.357143         1.0              ATL     CHO  \n",
            "2     0.294643         1.0              ATL     CHO  \n",
            "3     0.223214         0.0              ATL     MIA  \n",
            "4     0.348214         0.0              ATL     BRK  \n",
            "\n",
            "[5 rows x 402 columns]\n",
            "Number of rows in 'full' DataFrame: 22876\n",
            "\n",
            "Rows where 'target' == 2:\n",
            "1609     2\n",
            "2351     2\n",
            "4568     2\n",
            "5344     2\n",
            "6139     2\n",
            "8456     2\n",
            "9218     2\n",
            "9995     2\n",
            "10750    2\n",
            "11500    2\n",
            "12305    2\n",
            "14573    2\n",
            "15303    2\n",
            "16068    2\n",
            "16796    2\n",
            "19097    2\n",
            "19823    2\n",
            "20578    2\n",
            "21376    2\n",
            "22138    2\n",
            "Name: target, dtype: int64\n"
          ]
        }
      ]
    },
    {
      "cell_type": "code",
      "source": [
        "mask = full['date_next'] == game_day\n",
        "#filtered_df = full.loc[mask, ['team_x', 'team_opp_next_x', 'team_y', 'team_opp_next_y', 'date_next', 'home_next']]\n",
        "filtered_df = full.loc[mask, ['team_x', 'team_opp_next_x', 'team_y', 'team_opp_next_y', 'date_next', 'home_next']]\n",
        "\n",
        "print(filtered_df)"
      ],
      "metadata": {
        "colab": {
          "base_uri": "https://localhost:8080/"
        },
        "id": "W_hp5BlQ0lQl",
        "outputId": "0e5cb33c-98ca-46b7-8c0e-225175b73d7d"
      },
      "execution_count": 15,
      "outputs": [
        {
          "output_type": "stream",
          "name": "stdout",
          "text": [
            "      team_x team_opp_next_x team_y team_opp_next_y   date_next  home_next\n",
            "1609     BOS             CLE    CLE             BOS  2024-12-01        0.0\n",
            "2351     BRK             ORL    ORL             BRK  2024-12-01        1.0\n",
            "4568     CLE             BOS    BOS             CLE  2024-12-01        1.0\n",
            "5344     DAL             POR    POR             DAL  2024-12-01        0.0\n",
            "6139     DEN             LAC    LAC             DEN  2024-12-01        0.0\n",
            "8456     HOU             OKC    OKC             HOU  2024-12-01        1.0\n",
            "9218     IND             MEM    MEM             IND  2024-12-01        0.0\n",
            "9995     LAC             DEN    DEN             LAC  2024-12-01        1.0\n",
            "10750    LAL             UTA    UTA             LAL  2024-12-01        0.0\n",
            "11500    MEM             IND    IND             MEM  2024-12-01        1.0\n",
            "12305    MIA             TOR    TOR             MIA  2024-12-01        0.0\n",
            "14573    NOP             NYK    NYK             NOP  2024-12-01        0.0\n",
            "15303    NYK             NOP    NOP             NYK  2024-12-01        1.0\n",
            "16068    OKC             HOU    HOU             OKC  2024-12-01        0.0\n",
            "16796    ORL             BRK    BRK             ORL  2024-12-01        0.0\n",
            "19097    POR             DAL    DAL             POR  2024-12-01        1.0\n",
            "19823    SAC             SAS    SAS             SAC  2024-12-01        1.0\n",
            "20578    SAS             SAC    SAC             SAS  2024-12-01        0.0\n",
            "21376    TOR             MIA    MIA             TOR  2024-12-01        1.0\n",
            "22138    UTA             LAL    LAL             UTA  2024-12-01        1.0\n"
          ]
        }
      ]
    },
    {
      "cell_type": "code",
      "source": [
        "removed_columns = list(full.columns[full.dtypes == \"object\"]) + removed_columns\n"
      ],
      "metadata": {
        "id": "QWhi_aql0obe"
      },
      "execution_count": 16,
      "outputs": []
    },
    {
      "cell_type": "code",
      "source": [
        "selected_columns = full.columns[~full.columns.isin(removed_columns)]\n",
        "selected_features = selected_columns.unique()\n",
        "\n",
        "selected_features"
      ],
      "metadata": {
        "colab": {
          "base_uri": "https://localhost:8080/"
        },
        "id": "ERj1x7fW0rHN",
        "outputId": "158b9f31-78e3-446a-d110-6cc6c2ad52e0"
      },
      "execution_count": 17,
      "outputs": [
        {
          "output_type": "execute_result",
          "data": {
            "text/plain": [
              "Index(['fg_x', 'fga_x', 'fg%_x', '3p_x', '3pa_x', '3p%_x', 'ft_x', 'fta_x',\n",
              "       'orb_x', 'drb_x',\n",
              "       ...\n",
              "       'trb%_max_opp_y', 'ast%_max_opp_y', 'stl%_max_opp_y', 'blk%_max_opp_y',\n",
              "       'tov%_max_opp_y', 'usg%_max_opp_y', 'ortg_max_opp_y', 'drtg_max_opp_y',\n",
              "       'total_opp_y', 'home_opp_y'],\n",
              "      dtype='object', length=391)"
            ]
          },
          "metadata": {},
          "execution_count": 17
        }
      ]
    },
    {
      "cell_type": "code",
      "source": [
        "full_train = full[full[\"target\"] != 2]\n",
        "full_pred = full[full[\"target\"] == 2]\n",
        "\n",
        "print(full_pred)\n",
        "\n",
        "X = full_train[selected_features].values\n",
        "y = full_train[\"target\"].values\n"
      ],
      "metadata": {
        "colab": {
          "base_uri": "https://localhost:8080/"
        },
        "id": "CZ5WUTVV0uYc",
        "outputId": "c3a18dfb-7f2b-45a9-d8c6-d49ecb81c3fc"
      },
      "execution_count": 18,
      "outputs": [
        {
          "output_type": "stream",
          "name": "stdout",
          "text": [
            "           fg_x     fga_x     fg%_x      3p_x     3pa_x     3p%_x      ft_x  \\\n",
            "1609   0.652174  0.558824  0.000325  0.793103  0.757576  0.000506  0.386364   \n",
            "2351   0.413043  0.250000  0.000316  0.482759  0.378788  0.000574  0.227273   \n",
            "4568   0.413043  0.485294  0.000192  0.379310  0.515152  0.000343  0.318182   \n",
            "5344   0.478261  0.441176  0.000261  0.517241  0.530303  0.000457  0.204545   \n",
            "6139   0.586957  0.352941  0.000395  0.379310  0.439394  0.000395  0.431818   \n",
            "8456   0.456522  0.411765  0.000259  0.344828  0.409091  0.000384  0.727273   \n",
            "9218   0.478261  0.367647  0.000299  0.413793  0.439394  0.000432  0.272727   \n",
            "9995   0.369565  0.352941  0.000221  0.344828  0.409091  0.000384  0.227273   \n",
            "10750  0.304348  0.191176  0.000255  0.379310  0.515152  0.000343  0.363636   \n",
            "11500  0.608696  0.529412  0.000310  0.413793  0.560606  0.000348  0.318182   \n",
            "12305  0.521739  0.500000  0.000262  0.724138  0.757576  0.000462  0.318182   \n",
            "14573  0.413043  0.455882  0.000205  0.310345  0.378788  0.000368  0.545455   \n",
            "15303  0.369565  0.308824  0.000243  0.413793  0.424242  0.000445  0.340909   \n",
            "16068  0.413043  0.485294  0.000192  0.448276  0.545455  0.000386  0.272727   \n",
            "16796  0.543478  0.338235  0.000368  0.620690  0.469697  0.000610  0.386364   \n",
            "19097  0.586957  0.441176  0.000341  0.379310  0.500000  0.000353  0.272727   \n",
            "19823  0.347826  0.264706  0.000250  0.517241  0.575758  0.000424  0.477273   \n",
            "20578  0.369565  0.367647  0.000214  0.482759  0.545455  0.000416  0.340909   \n",
            "21376  0.521739  0.294118  0.000380  0.379310  0.378788  0.000450  0.318182   \n",
            "22138  0.326087  0.514706  0.000118  0.310345  0.530303  0.000274  0.386364   \n",
            "\n",
            "          fta_x     orb_x     drb_x  ...  stl%_max_opp_y  blk%_max_opp_y  \\\n",
            "1609   0.359375  0.379310  0.545455  ...           0.041           0.103   \n",
            "2351   0.218750  0.172414  0.318182  ...           0.036           0.117   \n",
            "4568   0.265625  0.379310  0.295455  ...           0.057           0.078   \n",
            "5344   0.234375  0.413793  0.454545  ...           0.159           0.050   \n",
            "6139   0.359375  0.344828  0.295455  ...           0.036           0.079   \n",
            "8456   0.593750  0.482759  0.477273  ...           0.041           0.096   \n",
            "9218   0.203125  0.241379  0.204545  ...           0.065           0.083   \n",
            "9995   0.203125  0.275862  0.340909  ...           0.066           0.092   \n",
            "10750  0.328125  0.275862  0.522727  ...           0.061           1.000   \n",
            "11500  0.265625  0.482759  0.477273  ...           0.407           0.141   \n",
            "12305  0.265625  0.310345  0.181818  ...           0.074           0.000   \n",
            "14573  0.468750  0.482759  0.363636  ...           0.099           0.079   \n",
            "15303  0.296875  0.413793  0.363636  ...           0.049           0.055   \n",
            "16068  0.250000  0.517241  0.363636  ...           0.054           0.366   \n",
            "16796  0.343750  0.379310  0.295455  ...           0.151           0.186   \n",
            "19097  0.234375  0.275862  0.363636  ...           0.050           0.158   \n",
            "19823  0.437500  0.379310  0.318182  ...           0.181           0.049   \n",
            "20578  0.250000  0.379310  0.250000  ...           0.105           0.041   \n",
            "21376  0.265625  0.344828  0.454545  ...           0.030           0.047   \n",
            "22138  0.328125  0.655172  0.409091  ...           0.044           0.044   \n",
            "\n",
            "       tov%_max_opp_y  usg%_max_opp_y  ortg_max_opp_y  drtg_max_opp_y  \\\n",
            "1609         0.297694        0.048718        0.421801        0.375000   \n",
            "2351         0.486373        0.173077        0.255924        0.625000   \n",
            "4568         0.300839        0.094872        0.601896        0.727273   \n",
            "5344         0.475891        0.126923        0.246445        0.545455   \n",
            "6139         0.219078        0.157692        0.246445        0.318182   \n",
            "8456         0.240042        0.105128        0.236967        0.488636   \n",
            "9218         1.000000        0.132051        0.341232        0.522727   \n",
            "9995         0.331237        0.102564        0.251185        0.704545   \n",
            "10750        0.650943        0.421795        0.526066        0.409091   \n",
            "11500        0.218029        0.143590        0.748815        0.420455   \n",
            "12305        0.213836        0.050000        0.331754        0.511364   \n",
            "14573        0.237945        0.205128        0.327014        0.443182   \n",
            "15303        0.161426        0.188462        0.293839        0.420455   \n",
            "16068        0.308176        0.214103        0.658768        0.522727   \n",
            "16796        0.351153        0.558974        0.905213        0.443182   \n",
            "19097        0.371069        0.070513        0.407583        0.488636   \n",
            "19823        0.650943        0.116667        0.526066        0.465909   \n",
            "20578        0.198113        0.132051        0.573460        0.454545   \n",
            "21376        0.300839        0.101282        0.649289        0.613636   \n",
            "22138        0.146751        0.239744        0.440758        0.409091   \n",
            "\n",
            "       total_opp_y  home_opp_y  team_opp_next_y  team_y  \n",
            "1609      0.473214         1.0              BOS     CLE  \n",
            "2351      0.321429         1.0              BRK     ORL  \n",
            "4568      0.580357         1.0              CLE     BOS  \n",
            "5344      0.375000         0.0              DAL     POR  \n",
            "6139      0.258929         1.0              DEN     LAC  \n",
            "8456      0.258929         1.0              HOU     OKC  \n",
            "9218      0.401786         0.0              IND     MEM  \n",
            "9995      0.348214         1.0              LAC     DEN  \n",
            "10750     0.375000         0.0              LAL     UTA  \n",
            "11500     0.589286         0.0              MEM     IND  \n",
            "12305     0.508929         1.0              MIA     TOR  \n",
            "14573     0.303571         1.0              NOP     NYK  \n",
            "15303     0.500000         1.0              NYK     NOP  \n",
            "16068     0.455357         1.0              OKC     HOU  \n",
            "16796     0.526786         0.0              ORL     BRK  \n",
            "19097     0.267857         1.0              POR     DAL  \n",
            "19823     0.491071         0.0              SAC     SAS  \n",
            "20578     0.455357         1.0              SAS     SAC  \n",
            "21376     0.419643         0.0              TOR     MIA  \n",
            "22138     0.330357         0.0              UTA     LAL  \n",
            "\n",
            "[20 rows x 402 columns]\n"
          ]
        }
      ]
    },
    {
      "cell_type": "code",
      "source": [
        "# Split the data into training and test sets\n",
        "X_train, X_test, y_train, y_test = train_test_split(X, y, test_size=0.2, random_state=42)"
      ],
      "metadata": {
        "id": "2jEYk6Dy0yMX"
      },
      "execution_count": 19,
      "outputs": []
    },
    {
      "cell_type": "code",
      "source": [
        "from sklearn.model_selection import GridSearchCV\n",
        "\n",
        "# Define the parameter grid\n",
        "param_grid = {\n",
        "    'num_leaves': [10, 20, 30],\n",
        "    'learning_rate': [0.01, 0.05, 0.1],\n",
        "    'max_depth': [3, 5, 7],\n",
        "    'min_child_weight': [1, 5, 10]\n",
        "}\n",
        "\n",
        "# Create a LightGBM classifier\n",
        "base_estimator = lgb.LGBMClassifier(objective='binary',\n",
        "                                     metric='auc',\n",
        "                                     boosting_type='gbdt',\n",
        "                                     verbosity=-1,\n",
        "                                     random_state=42)\n",
        "\n",
        "# Initialize GridSearchCV\n",
        "grid_search = GridSearchCV(estimator=base_estimator,\n",
        "                           param_grid=param_grid,\n",
        "                           scoring='roc_auc',\n",
        "                           cv=5,\n",
        "                           verbose=1,\n",
        "                           n_jobs=-1)\n",
        "\n",
        "# Perform grid search\n",
        "#grid_search.fit(X_train, y_train)\n",
        "\n",
        "# Print the best parameters\n",
        "#print(\"Best parameters found:\", grid_search.best_params_)\n"
      ],
      "metadata": {
        "id": "O05i6kRW00n9"
      },
      "execution_count": 20,
      "outputs": []
    },
    {
      "cell_type": "code",
      "source": [
        "#Best parameters found: {'learning_rate': 0.1, 'max_depth': 7, 'min_child_weight': 5, 'num_leaves': 10}\n",
        "\n",
        "params = {\n",
        "    'objective': 'binary',\n",
        "    'metric': 'auc',\n",
        "    'num_leaves': 10,\n",
        "    'learning_rate': 0.1,\n",
        "    'feature_fraction': 0.9,\n",
        "    'bagging_fraction': 0.9,\n",
        "    'bagging_freq': 10,\n",
        "    'boosting_type': 'gbdt',\n",
        "    'verbosity': -1,\n",
        "    'random_state': 42,\n",
        "    'lambda_l1': 0.5,\n",
        "    'lambda_l2': 0.5,\n",
        "    'max_depth': 7,\n",
        "    'min_child_weight': 5\n",
        "}\n",
        "\n",
        "model = lgb.LGBMClassifier(**params)"
      ],
      "metadata": {
        "id": "bsEvSdll05GV"
      },
      "execution_count": 21,
      "outputs": []
    },
    {
      "cell_type": "code",
      "source": [
        "# Train the model using X_train and y_train\n",
        "model.fit(X_train, y_train)\n",
        "\n",
        "# Predict the target values for the test set X_test\n",
        "y_pred = model.predict(X_test)\n",
        "\n",
        "# Check the accuracy of the model using the test set\n",
        "accuracy = accuracy_score(y_test, y_pred)\n",
        "print(\"Accuracy: {:.2f}%\".format(accuracy*100))"
      ],
      "metadata": {
        "colab": {
          "base_uri": "https://localhost:8080/"
        },
        "id": "znBuo-v-08Rk",
        "outputId": "b93ce936-7d0e-415e-ac94-d1af5f9beedb"
      },
      "execution_count": 22,
      "outputs": [
        {
          "output_type": "stream",
          "name": "stdout",
          "text": [
            "Accuracy: 60.98%\n"
          ]
        }
      ]
    },
    {
      "cell_type": "code",
      "source": [
        "importances = model.feature_importances_\n",
        "\n",
        "# create a dictionary to store feature importances with column names\n",
        "feat_importances = dict(zip(selected_columns, importances))\n",
        "\n",
        "# sort the dictionary by importance score in descending order\n",
        "sorted_feat_importances = sorted(feat_importances.items(), key=lambda x: x[1], reverse=True)\n",
        "\n",
        "\n",
        "# Print the sorted feature importances\n",
        "for feature, importance in sorted_feat_importances[:30]:\n",
        "    print(\"{}: {}\".format(feature, importance))\n"
      ],
      "metadata": {
        "colab": {
          "base_uri": "https://localhost:8080/"
        },
        "id": "iu5mqLrn1AYX",
        "outputId": "c92cf5d2-c64a-40eb-89ef-3d40c85d47dd"
      },
      "execution_count": 23,
      "outputs": [
        {
          "output_type": "stream",
          "name": "stdout",
          "text": [
            "home_next: 23\n",
            "ortg_7: 20\n",
            "pts_max_y: 19\n",
            "pts_max_7: 18\n",
            "drtg_7: 16\n",
            "usg%_max_y: 16\n",
            "usg%_max_7: 11\n",
            "ortg_max_7: 10\n",
            "fg_opp_7: 10\n",
            "blk_opp_7: 10\n",
            "drtg_max_opp_7: 10\n",
            "3pa_7: 9\n",
            "ast_7: 9\n",
            "pf_y: 9\n",
            "orb%_max_7: 8\n",
            "ft_opp_7: 8\n",
            "ast_opp_7: 8\n",
            "3pa_max_opp_7: 8\n",
            "pts_opp_y: 8\n",
            "ast%_7: 7\n",
            "stl%_7: 7\n",
            "fta_max_7: 7\n",
            "trb_max_7: 7\n",
            "drtg_max_7: 7\n",
            "pts_opp_7: 7\n",
            "ortg_y: 7\n",
            "drtg_y: 7\n",
            "blk_opp_y: 7\n",
            "3par_x: 6\n",
            "3p%_opp_x: 6\n"
          ]
        }
      ]
    },
    {
      "cell_type": "code",
      "source": [
        "# predict on new data\n",
        "full_pred[\"proba\"] = model.predict_proba(full_pred[selected_features])[:,1]\n",
        "full_pred[\"proba\"]"
      ],
      "metadata": {
        "colab": {
          "base_uri": "https://localhost:8080/",
          "height": 815
        },
        "id": "gy8Q0hUn1Dxd",
        "outputId": "2466ccb3-a3b0-4ee7-8ef5-5bebd54caa74"
      },
      "execution_count": 24,
      "outputs": [
        {
          "output_type": "stream",
          "name": "stderr",
          "text": [
            "<ipython-input-24-22cd410e1e14>:2: SettingWithCopyWarning: \n",
            "A value is trying to be set on a copy of a slice from a DataFrame.\n",
            "Try using .loc[row_indexer,col_indexer] = value instead\n",
            "\n",
            "See the caveats in the documentation: https://pandas.pydata.org/pandas-docs/stable/user_guide/indexing.html#returning-a-view-versus-a-copy\n",
            "  full_pred[\"proba\"] = model.predict_proba(full_pred[selected_features])[:,1]\n"
          ]
        },
        {
          "output_type": "execute_result",
          "data": {
            "text/plain": [
              "1609     0.600573\n",
              "2351     0.418875\n",
              "4568     0.562646\n",
              "5344     0.420172\n",
              "6139     0.418192\n",
              "8456     0.677178\n",
              "9218     0.417980\n",
              "9995     0.670165\n",
              "10750    0.445253\n",
              "11500    0.628289\n",
              "12305    0.554404\n",
              "14573    0.371027\n",
              "15303    0.778141\n",
              "16068    0.568496\n",
              "16796    0.716848\n",
              "19097    0.362633\n",
              "19823    0.592229\n",
              "20578    0.413601\n",
              "21376    0.645354\n",
              "22138    0.371903\n",
              "Name: proba, dtype: float64"
            ],
            "text/html": [
              "<div>\n",
              "<style scoped>\n",
              "    .dataframe tbody tr th:only-of-type {\n",
              "        vertical-align: middle;\n",
              "    }\n",
              "\n",
              "    .dataframe tbody tr th {\n",
              "        vertical-align: top;\n",
              "    }\n",
              "\n",
              "    .dataframe thead th {\n",
              "        text-align: right;\n",
              "    }\n",
              "</style>\n",
              "<table border=\"1\" class=\"dataframe\">\n",
              "  <thead>\n",
              "    <tr style=\"text-align: right;\">\n",
              "      <th></th>\n",
              "      <th>proba</th>\n",
              "    </tr>\n",
              "  </thead>\n",
              "  <tbody>\n",
              "    <tr>\n",
              "      <th>1609</th>\n",
              "      <td>0.600573</td>\n",
              "    </tr>\n",
              "    <tr>\n",
              "      <th>2351</th>\n",
              "      <td>0.418875</td>\n",
              "    </tr>\n",
              "    <tr>\n",
              "      <th>4568</th>\n",
              "      <td>0.562646</td>\n",
              "    </tr>\n",
              "    <tr>\n",
              "      <th>5344</th>\n",
              "      <td>0.420172</td>\n",
              "    </tr>\n",
              "    <tr>\n",
              "      <th>6139</th>\n",
              "      <td>0.418192</td>\n",
              "    </tr>\n",
              "    <tr>\n",
              "      <th>8456</th>\n",
              "      <td>0.677178</td>\n",
              "    </tr>\n",
              "    <tr>\n",
              "      <th>9218</th>\n",
              "      <td>0.417980</td>\n",
              "    </tr>\n",
              "    <tr>\n",
              "      <th>9995</th>\n",
              "      <td>0.670165</td>\n",
              "    </tr>\n",
              "    <tr>\n",
              "      <th>10750</th>\n",
              "      <td>0.445253</td>\n",
              "    </tr>\n",
              "    <tr>\n",
              "      <th>11500</th>\n",
              "      <td>0.628289</td>\n",
              "    </tr>\n",
              "    <tr>\n",
              "      <th>12305</th>\n",
              "      <td>0.554404</td>\n",
              "    </tr>\n",
              "    <tr>\n",
              "      <th>14573</th>\n",
              "      <td>0.371027</td>\n",
              "    </tr>\n",
              "    <tr>\n",
              "      <th>15303</th>\n",
              "      <td>0.778141</td>\n",
              "    </tr>\n",
              "    <tr>\n",
              "      <th>16068</th>\n",
              "      <td>0.568496</td>\n",
              "    </tr>\n",
              "    <tr>\n",
              "      <th>16796</th>\n",
              "      <td>0.716848</td>\n",
              "    </tr>\n",
              "    <tr>\n",
              "      <th>19097</th>\n",
              "      <td>0.362633</td>\n",
              "    </tr>\n",
              "    <tr>\n",
              "      <th>19823</th>\n",
              "      <td>0.592229</td>\n",
              "    </tr>\n",
              "    <tr>\n",
              "      <th>20578</th>\n",
              "      <td>0.413601</td>\n",
              "    </tr>\n",
              "    <tr>\n",
              "      <th>21376</th>\n",
              "      <td>0.645354</td>\n",
              "    </tr>\n",
              "    <tr>\n",
              "      <th>22138</th>\n",
              "      <td>0.371903</td>\n",
              "    </tr>\n",
              "  </tbody>\n",
              "</table>\n",
              "</div><br><label><b>dtype:</b> float64</label>"
            ]
          },
          "metadata": {},
          "execution_count": 24
        }
      ]
    },
    {
      "cell_type": "code",
      "source": [
        "home_teams_prob = list(games_df['home_team'])\n",
        "away_teams_prob = list(games_df['away_team'])\n",
        "\n",
        "#print(home_teams_prob)\n",
        "#print(away_teams_prob)\n",
        "\n",
        "# Filter the rows where team_x is a home team\n",
        "full_pred_prob = full_pred['team_x'].isin(home_teams_prob)\n",
        "#print(full_pred_prob)\n",
        "\n",
        "#full_pred_prob = full_pred['team_x'].isin(home_teams_prob)\n",
        "full_pred[full_pred_prob]['proba']\n"
      ],
      "metadata": {
        "colab": {
          "base_uri": "https://localhost:8080/",
          "height": 398
        },
        "id": "Z-tYvshT1KW9",
        "outputId": "24be3731-758c-4d9c-a2b4-b34c9393697f"
      },
      "execution_count": 25,
      "outputs": [
        {
          "output_type": "execute_result",
          "data": {
            "text/plain": [
              "2351     0.418875\n",
              "4568     0.562646\n",
              "8456     0.677178\n",
              "9995     0.670165\n",
              "11500    0.628289\n",
              "15303    0.778141\n",
              "19097    0.362633\n",
              "19823    0.592229\n",
              "21376    0.645354\n",
              "22138    0.371903\n",
              "Name: proba, dtype: float64"
            ],
            "text/html": [
              "<div>\n",
              "<style scoped>\n",
              "    .dataframe tbody tr th:only-of-type {\n",
              "        vertical-align: middle;\n",
              "    }\n",
              "\n",
              "    .dataframe tbody tr th {\n",
              "        vertical-align: top;\n",
              "    }\n",
              "\n",
              "    .dataframe thead th {\n",
              "        text-align: right;\n",
              "    }\n",
              "</style>\n",
              "<table border=\"1\" class=\"dataframe\">\n",
              "  <thead>\n",
              "    <tr style=\"text-align: right;\">\n",
              "      <th></th>\n",
              "      <th>proba</th>\n",
              "    </tr>\n",
              "  </thead>\n",
              "  <tbody>\n",
              "    <tr>\n",
              "      <th>2351</th>\n",
              "      <td>0.418875</td>\n",
              "    </tr>\n",
              "    <tr>\n",
              "      <th>4568</th>\n",
              "      <td>0.562646</td>\n",
              "    </tr>\n",
              "    <tr>\n",
              "      <th>8456</th>\n",
              "      <td>0.677178</td>\n",
              "    </tr>\n",
              "    <tr>\n",
              "      <th>9995</th>\n",
              "      <td>0.670165</td>\n",
              "    </tr>\n",
              "    <tr>\n",
              "      <th>11500</th>\n",
              "      <td>0.628289</td>\n",
              "    </tr>\n",
              "    <tr>\n",
              "      <th>15303</th>\n",
              "      <td>0.778141</td>\n",
              "    </tr>\n",
              "    <tr>\n",
              "      <th>19097</th>\n",
              "      <td>0.362633</td>\n",
              "    </tr>\n",
              "    <tr>\n",
              "      <th>19823</th>\n",
              "      <td>0.592229</td>\n",
              "    </tr>\n",
              "    <tr>\n",
              "      <th>21376</th>\n",
              "      <td>0.645354</td>\n",
              "    </tr>\n",
              "    <tr>\n",
              "      <th>22138</th>\n",
              "      <td>0.371903</td>\n",
              "    </tr>\n",
              "  </tbody>\n",
              "</table>\n",
              "</div><br><label><b>dtype:</b> float64</label>"
            ]
          },
          "metadata": {},
          "execution_count": 25
        }
      ]
    },
    {
      "cell_type": "code",
      "source": [
        "# Filter rows where full_pred_prob is True\n",
        "\n",
        "team_x = full_pred.loc[full_pred_prob, 'team_x']\n",
        "team_y = full_pred.loc[full_pred_prob, 'team_y']\n",
        "#print(team_x)\n",
        "#print(team_y)\n",
        "\n",
        "team_pairs = pd.concat([team_x, team_y], axis=1)\n",
        "\n",
        "\n",
        "print(team_pairs)"
      ],
      "metadata": {
        "colab": {
          "base_uri": "https://localhost:8080/"
        },
        "id": "4ENsRmjy1M-W",
        "outputId": "cc9b0dc7-1d17-4c8c-8fb5-09c4a0a25534"
      },
      "execution_count": 26,
      "outputs": [
        {
          "output_type": "stream",
          "name": "stdout",
          "text": [
            "      team_x team_y\n",
            "2351     BRK    ORL\n",
            "4568     CLE    BOS\n",
            "8456     HOU    OKC\n",
            "9995     LAC    DEN\n",
            "11500    MEM    IND\n",
            "15303    NYK    NOP\n",
            "19097    POR    DAL\n",
            "19823    SAC    SAS\n",
            "21376    TOR    MIA\n",
            "22138    UTA    LAL\n"
          ]
        }
      ]
    },
    {
      "cell_type": "code",
      "source": [
        "# Filter rows where full_pred_prob is True\n",
        "home_team_preds = full_pred.loc[full_pred_prob, ['team_x', 'team_y', 'proba']]\n",
        "\n",
        "# Rename the columns to match the format of the games_df dataframe\n",
        "home_team_preds.columns = ['home_team', 'away_team', 'home_team_prob']#, 'odds', 'result']\n",
        "home_team_preds['odds 1'] = 0\n",
        "home_team_preds['odds 2'] = 0\n",
        "\n",
        "home_team_preds['result'] = 0\n",
        "#home_team_preds['hit'] = 0\n",
        "home_team_preds['date'] = game_day\n",
        "\n",
        "# Print the resulting dataframe\n",
        "print((home_team_preds).to_string(index=False))\n",
        "\n",
        "#print(combined_df.head(80).to_string(index=False))\n",
        "\n"
      ],
      "metadata": {
        "colab": {
          "base_uri": "https://localhost:8080/"
        },
        "id": "0d6fKeyo1PxF",
        "outputId": "94a652ea-8b20-4e1b-fa06-b1bb39d1d864"
      },
      "execution_count": 27,
      "outputs": [
        {
          "output_type": "stream",
          "name": "stdout",
          "text": [
            "home_team away_team  home_team_prob  odds 1  odds 2  result       date\n",
            "      BRK       ORL        0.418875       0       0       0 2024-12-01\n",
            "      CLE       BOS        0.562646       0       0       0 2024-12-01\n",
            "      HOU       OKC        0.677178       0       0       0 2024-12-01\n",
            "      LAC       DEN        0.670165       0       0       0 2024-12-01\n",
            "      MEM       IND        0.628289       0       0       0 2024-12-01\n",
            "      NYK       NOP        0.778141       0       0       0 2024-12-01\n",
            "      POR       DAL        0.362633       0       0       0 2024-12-01\n",
            "      SAC       SAS        0.592229       0       0       0 2024-12-01\n",
            "      TOR       MIA        0.645354       0       0       0 2024-12-01\n",
            "      UTA       LAL        0.371903       0       0       0 2024-12-01\n"
          ]
        }
      ]
    },
    {
      "cell_type": "code",
      "source": [
        "team_preds = \"nba_games_predict_\" + TODAY + \".csv\"\n",
        "print(team_preds)\n",
        "\n",
        "directory_path = os.path.join(season_dir, f\"LightGBM\")\n",
        "\n",
        "os.makedirs(directory_path, exist_ok=True)\n",
        "\n",
        "# Construct the full file path\n",
        "full_path = os.path.join(directory_path, team_preds)\n",
        "\n",
        "# ... (rest of your code remains the same) ...\n",
        "\n",
        "# Save the DataFrame to the CSV file in the specified directory\n",
        "home_team_preds.to_csv(full_path, index=False)\n",
        "print(f\"Predictions saved to: {full_path}\")"
      ],
      "metadata": {
        "colab": {
          "base_uri": "https://localhost:8080/"
        },
        "id": "O3PDmEf81Tj1",
        "outputId": "ddefd9aa-5ffa-4ca5-b44d-5b629f1081ea"
      },
      "execution_count": 37,
      "outputs": [
        {
          "output_type": "stream",
          "name": "stdout",
          "text": [
            "nba_games_predict_2024-12-01.csv\n",
            "Predictions saved to: /content/drive/My Drive/NBA_Script/2025/LightGBM/nba_games_predict_2024-12-01.csv\n"
          ]
        }
      ]
    }
  ]
}