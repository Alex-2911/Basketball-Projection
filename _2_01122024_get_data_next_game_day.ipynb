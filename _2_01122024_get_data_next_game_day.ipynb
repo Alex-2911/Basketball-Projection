{
  "nbformat": 4,
  "nbformat_minor": 0,
  "metadata": {
    "colab": {
      "provenance": [],
      "authorship_tag": "ABX9TyO4EU5BeklShc3TX5dvOlS9",
      "include_colab_link": true
    },
    "kernelspec": {
      "name": "python3",
      "display_name": "Python 3"
    },
    "language_info": {
      "name": "python"
    }
  },
  "cells": [
    {
      "cell_type": "markdown",
      "metadata": {
        "id": "view-in-github",
        "colab_type": "text"
      },
      "source": [
        "<a href=\"https://colab.research.google.com/github/Alex-2911/Basketball-Projection/blob/main/_2_01122024_get_data_next_game_day.ipynb\" target=\"_parent\"><img src=\"https://colab.research.google.com/assets/colab-badge.svg\" alt=\"Open In Colab\"/></a>"
      ]
    },
    {
      "cell_type": "code",
      "source": [
        "current_season = 2025\n"
      ],
      "metadata": {
        "id": "E6ap7gyKvddN"
      },
      "execution_count": 13,
      "outputs": []
    },
    {
      "cell_type": "code",
      "source": [
        "# import os\n",
        "from google.colab import drive\n",
        "import os\n",
        "\n",
        "# Mount Google Drive\n",
        "drive.mount('/content/drive')\n",
        "\n",
        "# Define base directory in Google Drive\n",
        "#DATA_DIR = os.path.join(\"/content/drive/My Drive\", \"NBA_Script\", \"2025\", \"Gathering_Data\", \"data\")\n",
        "#SRC_DIR = os.path.join(\"/content/drive/My Drive\", \"NBA_Script\", \"2025\", \"Gathering_Data\", \"Whole_Statistic\")\n",
        "\n",
        "# Define directories\n",
        "base_dir = \"/content/drive/My Drive/NBA_Script/2025/Gathering_Data\"\n",
        "STANDINGS_DIR = os.path.join(base_dir, f\"{current_season}_standings\")\n",
        "SCORES_DIR = os.path.join(base_dir, f\"{current_season}_scores\")\n",
        "SRC_DIR = os.path.join(base_dir, f\"Whole_Statistic\")"
      ],
      "metadata": {
        "colab": {
          "base_uri": "https://localhost:8080/"
        },
        "id": "MP0NLhg8vXhc",
        "outputId": "8bcd986b-eccd-4d27-ce71-2d2f0f78eaf3"
      },
      "execution_count": 14,
      "outputs": [
        {
          "output_type": "stream",
          "name": "stdout",
          "text": [
            "Drive already mounted at /content/drive; to attempt to forcibly remount, call drive.mount(\"/content/drive\", force_remount=True).\n"
          ]
        }
      ]
    },
    {
      "cell_type": "code",
      "execution_count": 15,
      "metadata": {
        "id": "cp0WOiBounU4"
      },
      "outputs": [],
      "source": [
        "from datetime import datetime, timedelta\n",
        "today = datetime.now() - timedelta(days=0)\n",
        "#today = datetime.now() - timedelta(days=1)\n",
        "\n",
        "today_str_format = today.strftime(\"%Y-%m-%d\")\n"
      ]
    },
    {
      "cell_type": "code",
      "source": [
        "from bs4 import BeautifulSoup\n",
        "from datetime import datetime\n",
        "import os\n",
        "import requests\n",
        "import calendar\n",
        "import pandas as pd\n",
        "\n",
        "# Define the current season and directories\n",
        "#DATA_DIR = os.path.join(\"D:\\\\\", \"1. Python\", \"1. NBA Script\",\"2025\", \"Gathering_Data\", \"data\")\n",
        "#STANDINGS_DIR = os.path.join(DATA_DIR, f\"{current_season}_standings\")\n",
        "\n",
        "# Calculate today's date\n",
        "now = datetime.now()\n",
        "today_str = now.strftime(\"%a, %b \") + str(int(now.strftime(\"%d\"))) + now.strftime(\", %Y\")\n",
        "today_date = datetime.strptime(today_str, \"%a, %b %d, %Y\")\n",
        "\n",
        "print(f\"Today's date: {today_str}\")\n",
        "\n",
        "month_for_coming_games = now.month\n",
        "month_name_for_coming_games = calendar.month_name[month_for_coming_games].lower()\n",
        "print(month_name_for_coming_games)\n",
        "\n",
        "file_name = f\"NBA_{current_season}_games-{month_name_for_coming_games}.html\"\n",
        "file_path = os.path.join(STANDINGS_DIR, file_name)\n",
        "print(f\"Checking file: {file_path}\")\n",
        "\n",
        "def scrape_season_for_month(season, month, month_name, standings_dir):\n",
        "    url = f\"https://www.basketball-reference.com/leagues/NBA_{season}_games.html\"\n",
        "    print(url)\n",
        "\n",
        "    try:\n",
        "        response = requests.get(url)\n",
        "        response.raise_for_status()\n",
        "        soup = BeautifulSoup(response.text, 'html.parser')\n",
        "        links = soup.find_all(\"a\", href=True)\n",
        "        month_link = None\n",
        "        for link in links:\n",
        "            if f\"NBA_{season}_games-{month_name}\" in link['href']:\n",
        "                month_link = \"https://www.basketball-reference.com\" + link['href']\n",
        "                break\n",
        "        if month_link:\n",
        "            month_response = requests.get(month_link)\n",
        "            month_response.raise_for_status()\n",
        "            with open(os.path.join(standings_dir, f\"NBA_{season}_games-{month_name}.html\"), \"w\", encoding='utf-8') as f:\n",
        "                f.write(month_response.text)\n",
        "            print(f\"Data for {month_name.title()} saved.\")\n",
        "        else:\n",
        "            print(f\"No link found for {month_name.title()} {season}.\")\n",
        "    except requests.RequestException as e:\n",
        "        print(f\"An error occurred while fetching data: {e}\")"
      ],
      "metadata": {
        "colab": {
          "base_uri": "https://localhost:8080/"
        },
        "id": "pWludyqtu_sV",
        "outputId": "02c34a45-4a6e-43e2-be29-878f1e1f4857"
      },
      "execution_count": 16,
      "outputs": [
        {
          "output_type": "stream",
          "name": "stdout",
          "text": [
            "Today's date: Sun, Dec 1, 2024\n",
            "december\n",
            "Checking file: /content/drive/My Drive/NBA_Script/2025/Gathering_Data/2025_standings/NBA_2025_games-december.html\n"
          ]
        }
      ]
    },
    {
      "cell_type": "code",
      "source": [
        "from datetime import datetime\n",
        "from bs4 import BeautifulSoup\n",
        "import os\n",
        "\n",
        "def find_games_for_next_day(today_date, file_paths):\n",
        "    next_game_info = []\n",
        "    next_game_date = None  # Placeholder to track the date of the first game found\n",
        "\n",
        "    for file_path in file_paths:\n",
        "        if not os.path.exists(file_path):\n",
        "            continue\n",
        "\n",
        "        try:\n",
        "            with open(file_path, \"r\", encoding='utf-8') as file:\n",
        "                soup = BeautifulSoup(file.read(), 'html.parser')\n",
        "\n",
        "            table = soup.find(\"table\", {\"id\": \"schedule\"})\n",
        "\n",
        "            if table:\n",
        "                rows = table.find_all(\"tr\")\n",
        "                for row in rows[1:]:  # Skip the header row\n",
        "                    game_date_tag = row.find(\"th\", {\"data-stat\": \"date_game\"})\n",
        "                    if game_date_tag:\n",
        "                        game_date_str = game_date_tag.text.strip()\n",
        "                        try:\n",
        "                            game_date = datetime.strptime(game_date_str, \"%a, %b %d, %Y\")\n",
        "                        except ValueError:\n",
        "                            continue\n",
        "\n",
        "                        # If it's the first game on or after today_date, set next_game_date\n",
        "                        if game_date >= today_date and next_game_date is None:\n",
        "                            next_game_date = game_date\n",
        "\n",
        "                        # Collect games for the determined next game date\n",
        "                        if game_date == next_game_date:\n",
        "                            cols = row.find_all(\"td\")\n",
        "                            if len(cols) >= 4:\n",
        "                                visitor_team = cols[1].text.strip()\n",
        "                                home_team = cols[3].text.strip()\n",
        "                                next_game_info.append({\n",
        "                                    'date': game_date,\n",
        "                                    'home_team': home_team,\n",
        "                                    'visitor_team': visitor_team\n",
        "                                })\n",
        "                        # Stop once we've collected all games for the next available game day\n",
        "                        elif next_game_date is not None and game_date > next_game_date:\n",
        "                            return next_game_info\n",
        "\n",
        "        except Exception as e:\n",
        "            print(f\"An error occurred while processing the file: {e}\")\n",
        "\n",
        "    return next_game_info"
      ],
      "metadata": {
        "id": "UKS-smm6v1PN"
      },
      "execution_count": 17,
      "outputs": []
    },
    {
      "cell_type": "code",
      "source": [
        "print(file_path)\n",
        "\n",
        "# Scrape data for the current month if not present\n",
        "if not os.path.exists(file_path):\n",
        "    print(f\"File does not exist: {file_path}\")\n",
        "    scrape_season_for_month(current_season, month_for_coming_games, month_name_for_coming_games, STANDINGS_DIR)\n",
        "\n",
        "next_game_info = find_games_for_next_day(today_date, [file_path])"
      ],
      "metadata": {
        "colab": {
          "base_uri": "https://localhost:8080/"
        },
        "id": "qaznWSrOu_qT",
        "outputId": "dd03c087-e08a-4c78-88d5-eaf7d628b73c"
      },
      "execution_count": 18,
      "outputs": [
        {
          "output_type": "stream",
          "name": "stdout",
          "text": [
            "/content/drive/My Drive/NBA_Script/2025/Gathering_Data/2025_standings/NBA_2025_games-december.html\n"
          ]
        }
      ]
    },
    {
      "cell_type": "code",
      "source": [
        "# Prepare to look ahead one month at a time\n",
        "next_month = month_for_coming_games % 12 + 1  # Handle month transition properly\n",
        "months_checked = 0\n",
        "max_months_to_check = 12  # Check up to 12 months ahead\n",
        "#next_game_info = None\n",
        "\n",
        "while not next_game_info and months_checked < max_months_to_check:\n",
        "    month_name_for_coming_games = calendar.month_name[next_month].lower()\n",
        "    file_name = f\"NBA_{current_season}_games-{month_name_for_coming_games}.html\"\n",
        "    file_path = os.path.join(STANDINGS_DIR, file_name)\n",
        "    print(file_path,'AAAA')\n",
        "\n",
        "    if not os.path.exists(file_path):\n",
        "        scrape_season_for_month(current_season, next_month, month_name_for_coming_games, STANDINGS_DIR)\n",
        "\n",
        "    next_game_info = find_next_game(today_date, [file_path])\n",
        "    next_month = (next_month % 12) + 1  # Move to the next month\n",
        "    months_checked += 1\n",
        "\n",
        "# Display the next game\n",
        "# if next_game_info:\n",
        "#     print(f\"The next game is on {next_game_info['date'].strftime('%a, %b %d, %Y')}.\")\n",
        "#     print(f\"Teams: {next_game_info['visitor_team']} vs {next_game_info['home_team']}\")\n",
        "# else:\n",
        "#     print(\"No upcoming games found.\")\n",
        "\n",
        "# Map team names to their codes and create a DataFrame\n",
        "team_codes = {\n",
        "    'Atlanta Hawks': 'ATL',\n",
        "    'Boston Celtics': 'BOS',\n",
        "    'Brooklyn Nets': 'BRK',\n",
        "    'Charlotte Hornets': 'CHO',\n",
        "    'Chicago Bulls': 'CHI',\n",
        "    'Cleveland Cavaliers': 'CLE',\n",
        "    'Dallas Mavericks': 'DAL',\n",
        "    'Denver Nuggets': 'DEN',\n",
        "    'Detroit Pistons': 'DET',\n",
        "    'Golden State Warriors': 'GSW',\n",
        "    'Houston Rockets': 'HOU',\n",
        "    'Indiana Pacers': 'IND',\n",
        "    'Los Angeles Clippers': 'LAC',\n",
        "    'Los Angeles Lakers': 'LAL',\n",
        "    'Memphis Grizzlies': 'MEM',\n",
        "    'Miami Heat': 'MIA',\n",
        "    'Milwaukee Bucks': 'MIL',\n",
        "    'Minnesota Timberwolves': 'MIN',\n",
        "    'New Orleans Pelicans': 'NOP',\n",
        "    'New York Knicks': 'NYK',\n",
        "    'Oklahoma City Thunder': 'OKC',\n",
        "    'Orlando Magic': 'ORL',\n",
        "    'Philadelphia 76ers': 'PHI',\n",
        "    'Phoenix Suns': 'PHO',\n",
        "    'Portland Trail Blazers': 'POR',\n",
        "    'Sacramento Kings': 'SAC',\n",
        "    'San Antonio Spurs': 'SAS',\n",
        "    'Toronto Raptors': 'TOR',\n",
        "    'Utah Jazz': 'UTA',\n",
        "    'Washington Wizards': 'WAS'\n",
        "}"
      ],
      "metadata": {
        "id": "Bag_N4q8v_g-"
      },
      "execution_count": 19,
      "outputs": []
    },
    {
      "cell_type": "code",
      "source": [
        "games = []\n",
        "\n",
        "# Display all the games for today\n",
        "if next_game_info:\n",
        "    for game in next_game_info:  # Loop through the list of games\n",
        "        home_team_name = team_codes.get(game['home_team'], game['home_team'])  # Use 'game' instead of 'next_game_info'\n",
        "        visitor_team_name = team_codes.get(game['visitor_team'], game['visitor_team'])\n",
        "        games.append((home_team_name, visitor_team_name, game['date'].strftime(\"%Y-%m-%d\")))\n",
        "\n",
        "        print(f\"The game is on {game['date'].strftime('%a, %b %d, %Y')}.\")\n",
        "        print(f\"Teams: {game['visitor_team']} vs {game['home_team']}\")\n",
        "else:\n",
        "    print(\"No games found for today.\")\n",
        "\n",
        "# Create DataFrame\n",
        "games_df = pd.DataFrame(games, columns=['home_team', 'away_team', 'game_date'])\n",
        "\n",
        "print(games_df)\n"
      ],
      "metadata": {
        "colab": {
          "base_uri": "https://localhost:8080/"
        },
        "id": "mZsQ-XVmwEnA",
        "outputId": "fe5a6e2d-13ca-46cc-bc5b-718560ccad5d"
      },
      "execution_count": 20,
      "outputs": [
        {
          "output_type": "stream",
          "name": "stdout",
          "text": [
            "The game is on Sun, Dec 01, 2024.\n",
            "Teams: Orlando Magic vs Brooklyn Nets\n",
            "The game is on Sun, Dec 01, 2024.\n",
            "Teams: Indiana Pacers vs Memphis Grizzlies\n",
            "The game is on Sun, Dec 01, 2024.\n",
            "Teams: Boston Celtics vs Cleveland Cavaliers\n",
            "The game is on Sun, Dec 01, 2024.\n",
            "Teams: New Orleans Pelicans vs New York Knicks\n",
            "The game is on Sun, Dec 01, 2024.\n",
            "Teams: Miami Heat vs Toronto Raptors\n",
            "The game is on Sun, Dec 01, 2024.\n",
            "Teams: Oklahoma City Thunder vs Houston Rockets\n",
            "The game is on Sun, Dec 01, 2024.\n",
            "Teams: Los Angeles Lakers vs Utah Jazz\n",
            "The game is on Sun, Dec 01, 2024.\n",
            "Teams: Dallas Mavericks vs Portland Trail Blazers\n",
            "The game is on Sun, Dec 01, 2024.\n",
            "Teams: San Antonio Spurs vs Sacramento Kings\n",
            "The game is on Sun, Dec 01, 2024.\n",
            "Teams: Denver Nuggets vs Los Angeles Clippers\n",
            "  home_team away_team   game_date\n",
            "0       BRK       ORL  2024-12-01\n",
            "1       MEM       IND  2024-12-01\n",
            "2       CLE       BOS  2024-12-01\n",
            "3       NYK       NOP  2024-12-01\n",
            "4       TOR       MIA  2024-12-01\n",
            "5       HOU       OKC  2024-12-01\n",
            "6       UTA       LAL  2024-12-01\n",
            "7       POR       DAL  2024-12-01\n",
            "8       SAC       SAS  2024-12-01\n",
            "9       LAC       DEN  2024-12-01\n"
          ]
        }
      ]
    },
    {
      "cell_type": "code",
      "source": [
        "# Define the target folder path\n",
        "#target_folder = r'D:\\1. Python\\1. NBA Script\\2025\\Gathering_Data\\Next_Game'\n",
        "base_dir = \"/content/drive/My Drive/NBA_Script/2025/Gathering_Data\"\n",
        "\n",
        "\n",
        "# Create the folder if it doesn't exist\n",
        "if not os.path.exists(base_dir):\n",
        "    os.makedirs(base_dir)\n",
        "\n",
        "# Save the games_df DataFrame to a CSV file in the target folder\n",
        "games_df.to_csv(os.path.join(base_dir, 'games_df_' + today_str_format + '.csv'))#, index=False)\n",
        "\n",
        "print(f\"games_df has been saved in the folder: {base_dir}\")\n"
      ],
      "metadata": {
        "colab": {
          "base_uri": "https://localhost:8080/"
        },
        "id": "SSZemneRwKrO",
        "outputId": "3b5ac5a1-2665-47f3-deb8-b3093ada6871"
      },
      "execution_count": 21,
      "outputs": [
        {
          "output_type": "stream",
          "name": "stdout",
          "text": [
            "games_df has been saved in the folder: /content/drive/My Drive/NBA_Script/2025/Gathering_Data\n"
          ]
        }
      ]
    }
  ]
}